{
 "cells": [
  {
   "cell_type": "markdown",
   "metadata": {},
   "source": [
    "# TSA Predictions Model"
   ]
  },
  {
   "cell_type": "markdown",
   "metadata": {},
   "source": [
    "This is me building/testing models to predict TSA wait times, for incorporation into the How Is MCO Today Calculator Tool."
   ]
  },
  {
   "cell_type": "code",
   "execution_count": 4,
   "metadata": {},
   "outputs": [],
   "source": [
    "import pandas as pd\n",
    "import ast\n",
    "import numpy as np\n",
    "import matplotlib.pyplot as plt"
   ]
  },
  {
   "cell_type": "markdown",
   "metadata": {},
   "source": [
    "## Data Cleaning"
   ]
  },
  {
   "cell_type": "code",
   "execution_count": 5,
   "metadata": {},
   "outputs": [],
   "source": [
    "df = pd.read_csv(\"https://raw.githubusercontent.com/cruzdariel/how_is_mco_today/refs/heads/main/history.csv\")"
   ]
  },
  {
   "cell_type": "code",
   "execution_count": 6,
   "metadata": {},
   "outputs": [
    {
     "data": {
      "application/vnd.microsoft.datawrangler.viewer.v0+json": {
       "columns": [
        {
         "name": "index",
         "rawType": "int64",
         "type": "integer"
        },
        {
         "name": "timestamp",
         "rawType": "datetime64[ns]",
         "type": "datetime"
        },
        {
         "name": "score_metric",
         "rawType": "float64",
         "type": "float"
        },
        {
         "name": "most_delayed",
         "rawType": "object",
         "type": "string"
        },
        {
         "name": "most_cancelled",
         "rawType": "object",
         "type": "string"
        },
        {
         "name": "delayed_by_airline",
         "rawType": "object",
         "type": "unknown"
        },
        {
         "name": "cancelled_by_airline",
         "rawType": "object",
         "type": "unknown"
        },
        {
         "name": "delayed",
         "rawType": "int64",
         "type": "integer"
        },
        {
         "name": "cancelled",
         "rawType": "int64",
         "type": "integer"
        },
        {
         "name": "ontime",
         "rawType": "int64",
         "type": "integer"
        },
        {
         "name": "total_flights",
         "rawType": "int64",
         "type": "integer"
        },
        {
         "name": "average_general_wait",
         "rawType": "int64",
         "type": "integer"
        },
        {
         "name": "average_precheck_wait",
         "rawType": "int64",
         "type": "integer"
        },
        {
         "name": "average_overall_wait",
         "rawType": "int64",
         "type": "integer"
        },
        {
         "name": "open_checkpoints",
         "rawType": "int64",
         "type": "integer"
        },
        {
         "name": "lane_wait_times",
         "rawType": "object",
         "type": "unknown"
        },
        {
         "name": "source",
         "rawType": "object",
         "type": "string"
        },
        {
         "name": "cancelled_American",
         "rawType": "int64",
         "type": "integer"
        },
        {
         "name": "cancelled_Frontier",
         "rawType": "int64",
         "type": "integer"
        },
        {
         "name": "cancelled_Delta",
         "rawType": "int64",
         "type": "integer"
        },
        {
         "name": "cancelled_JetBlue",
         "rawType": "int64",
         "type": "integer"
        },
        {
         "name": "cancelled_Breeze Airways",
         "rawType": "int64",
         "type": "integer"
        },
        {
         "name": "cancelled_Spirit",
         "rawType": "int64",
         "type": "integer"
        },
        {
         "name": "cancelled_Air Canada",
         "rawType": "int64",
         "type": "integer"
        },
        {
         "name": "cancelled_Southwest",
         "rawType": "int64",
         "type": "integer"
        },
        {
         "name": "cancelled_Silver Airways",
         "rawType": "int64",
         "type": "integer"
        },
        {
         "name": "cancelled_Porter",
         "rawType": "int64",
         "type": "integer"
        },
        {
         "name": "cancelled_United",
         "rawType": "int64",
         "type": "integer"
        },
        {
         "name": "cancelled_Flair",
         "rawType": "int64",
         "type": "integer"
        },
        {
         "name": "cancelled_Sun Country",
         "rawType": "int64",
         "type": "integer"
        },
        {
         "name": "cancelled_Discover",
         "rawType": "int64",
         "type": "integer"
        },
        {
         "name": "cancelled_Aeromexico",
         "rawType": "int64",
         "type": "integer"
        },
        {
         "name": "cancelled_GOL",
         "rawType": "int64",
         "type": "integer"
        },
        {
         "name": "cancelled_Virgin Atlantic",
         "rawType": "int64",
         "type": "integer"
        },
        {
         "name": "cancelled_Alaska",
         "rawType": "int64",
         "type": "integer"
        },
        {
         "name": "cancelled_Azul",
         "rawType": "int64",
         "type": "integer"
        },
        {
         "name": "cancelled_Avianca",
         "rawType": "int64",
         "type": "integer"
        },
        {
         "name": "cancelled_WestJet",
         "rawType": "int64",
         "type": "integer"
        },
        {
         "name": "cancelled_Volaris",
         "rawType": "int64",
         "type": "integer"
        },
        {
         "name": "cancelled_Copa Airlines",
         "rawType": "int64",
         "type": "integer"
        },
        {
         "name": "cancelled_Icelandair",
         "rawType": "int64",
         "type": "integer"
        },
        {
         "name": "delayed_United",
         "rawType": "int64",
         "type": "integer"
        },
        {
         "name": "delayed_American",
         "rawType": "int64",
         "type": "integer"
        },
        {
         "name": "delayed_JetBlue",
         "rawType": "int64",
         "type": "integer"
        },
        {
         "name": "delayed_Delta",
         "rawType": "int64",
         "type": "integer"
        },
        {
         "name": "delayed_Southwest",
         "rawType": "int64",
         "type": "integer"
        },
        {
         "name": "delayed_Spirit",
         "rawType": "int64",
         "type": "integer"
        },
        {
         "name": "delayed_Breeze Airways",
         "rawType": "int64",
         "type": "integer"
        },
        {
         "name": "delayed_Frontier",
         "rawType": "int64",
         "type": "integer"
        },
        {
         "name": "delayed_Sun Country",
         "rawType": "int64",
         "type": "integer"
        },
        {
         "name": "delayed_Silver Airways",
         "rawType": "int64",
         "type": "integer"
        },
        {
         "name": "delayed_Alaska",
         "rawType": "int64",
         "type": "integer"
        },
        {
         "name": "delayed_Porter",
         "rawType": "int64",
         "type": "integer"
        },
        {
         "name": "delayed_WestJet",
         "rawType": "int64",
         "type": "integer"
        },
        {
         "name": "delayed_Avianca",
         "rawType": "int64",
         "type": "integer"
        },
        {
         "name": "delayed_Avelo Airlines",
         "rawType": "int64",
         "type": "integer"
        },
        {
         "name": "delayed_Virgin Atlantic",
         "rawType": "int64",
         "type": "integer"
        },
        {
         "name": "delayed_Air Canada",
         "rawType": "int64",
         "type": "integer"
        },
        {
         "name": "delayed_Flair",
         "rawType": "int64",
         "type": "integer"
        },
        {
         "name": "delayed_British Airways",
         "rawType": "int64",
         "type": "integer"
        },
        {
         "name": "delayed_LATAM",
         "rawType": "int64",
         "type": "integer"
        },
        {
         "name": "delayed_LAN Chile",
         "rawType": "int64",
         "type": "integer"
        },
        {
         "name": "delayed_Bahamasair",
         "rawType": "int64",
         "type": "integer"
        },
        {
         "name": "delayed_Discover",
         "rawType": "int64",
         "type": "integer"
        },
        {
         "name": "delayed_Air Transat",
         "rawType": "int64",
         "type": "integer"
        },
        {
         "name": "delayed_Allegiant Air",
         "rawType": "int64",
         "type": "integer"
        },
        {
         "name": "delayed_Volaris",
         "rawType": "int64",
         "type": "integer"
        },
        {
         "name": "delayed_GOL",
         "rawType": "int64",
         "type": "integer"
        },
        {
         "name": "delayed_Azul",
         "rawType": "int64",
         "type": "integer"
        },
        {
         "name": "delayed_Aer Lingus",
         "rawType": "int64",
         "type": "integer"
        },
        {
         "name": "delayed_Emirates",
         "rawType": "int64",
         "type": "integer"
        },
        {
         "name": "delayed_Latam Colombia",
         "rawType": "int64",
         "type": "integer"
        },
        {
         "name": "delayed_Aeromexico",
         "rawType": "int64",
         "type": "integer"
        },
        {
         "name": "delayed_Vivaaerobus",
         "rawType": "int64",
         "type": "integer"
        },
        {
         "name": "delayed_Copa Airlines",
         "rawType": "int64",
         "type": "integer"
        },
        {
         "name": "delayed_BermudAir",
         "rawType": "int64",
         "type": "integer"
        },
        {
         "name": "delayed_Norse Atlantic UK",
         "rawType": "int64",
         "type": "integer"
        },
        {
         "name": "tsa_East Checkpoint General.lane_type",
         "rawType": "object",
         "type": "string"
        },
        {
         "name": "tsa_East Checkpoint General.wait_time",
         "rawType": "int64",
         "type": "integer"
        },
        {
         "name": "tsa_South Checkpoint General.lane_type",
         "rawType": "object",
         "type": "string"
        },
        {
         "name": "tsa_South Checkpoint General.wait_time",
         "rawType": "int64",
         "type": "integer"
        },
        {
         "name": "tsa_South Checkpoint TSA PreCheck.lane_type",
         "rawType": "object",
         "type": "string"
        },
        {
         "name": "tsa_South Checkpoint TSA PreCheck.wait_time",
         "rawType": "int64",
         "type": "integer"
        },
        {
         "name": "tsa_West Checkpoint General.lane_type",
         "rawType": "object",
         "type": "string"
        },
        {
         "name": "tsa_West Checkpoint General.wait_time",
         "rawType": "int64",
         "type": "integer"
        },
        {
         "name": "year",
         "rawType": "int32",
         "type": "integer"
        },
        {
         "name": "month",
         "rawType": "int32",
         "type": "integer"
        },
        {
         "name": "day",
         "rawType": "int32",
         "type": "integer"
        },
        {
         "name": "hour",
         "rawType": "int32",
         "type": "integer"
        },
        {
         "name": "minute",
         "rawType": "int32",
         "type": "integer"
        }
       ],
       "conversionMethod": "pd.DataFrame",
       "ref": "07c09b05-9989-4712-a418-2ef4b4c8eac7",
       "rows": [
        [
         "0",
         "2025-02-16 19:23:50",
         "0.551953755830071",
         "Southwest",
         "Frontier",
         "{'United': 10, 'American': 8, 'JetBlue': 12, 'Delta': 9, 'Southwest': 19, 'Spirit': 6, 'Breeze Airways': 2, 'Frontier': 2, 'Sun Country': 1, 'Silver Airways': 1, 'Alaska': 1, 'Porter': 1}",
         "{'American': 1, 'Frontier': 4}",
         "72",
         "5",
         "49",
         "126",
         "7",
         "2",
         "5",
         "4",
         "{'East Checkpoint General': {'lane_type': 'general', 'wait_time': 8.0}, 'South Checkpoint General': {'lane_type': 'general', 'wait_time': 5.0}, 'South Checkpoint TSA PreCheck': {'lane_type': 'tsa_precheck', 'wait_time': 2.0}, 'West Checkpoint General': {'lane_type': 'general', 'wait_time': 8.0}}",
         "X",
         "1",
         "4",
         "0",
         "0",
         "0",
         "0",
         "0",
         "0",
         "0",
         "0",
         "0",
         "0",
         "0",
         "0",
         "0",
         "0",
         "0",
         "0",
         "0",
         "0",
         "0",
         "0",
         "0",
         "0",
         "10",
         "8",
         "12",
         "9",
         "19",
         "6",
         "2",
         "2",
         "1",
         "1",
         "1",
         "1",
         "0",
         "0",
         "0",
         "0",
         "0",
         "0",
         "0",
         "0",
         "0",
         "0",
         "0",
         "0",
         "0",
         "0",
         "0",
         "0",
         "0",
         "0",
         "0",
         "0",
         "0",
         "0",
         "0",
         "0",
         "general",
         "8",
         "general",
         "5",
         "tsa_precheck",
         "2",
         "general",
         "8",
         "2025",
         "2",
         "16",
         "19",
         "23"
        ]
       ],
       "shape": {
        "columns": 89,
        "rows": 1
       }
      },
      "text/html": [
       "<div>\n",
       "<style scoped>\n",
       "    .dataframe tbody tr th:only-of-type {\n",
       "        vertical-align: middle;\n",
       "    }\n",
       "\n",
       "    .dataframe tbody tr th {\n",
       "        vertical-align: top;\n",
       "    }\n",
       "\n",
       "    .dataframe thead th {\n",
       "        text-align: right;\n",
       "    }\n",
       "</style>\n",
       "<table border=\"1\" class=\"dataframe\">\n",
       "  <thead>\n",
       "    <tr style=\"text-align: right;\">\n",
       "      <th></th>\n",
       "      <th>timestamp</th>\n",
       "      <th>score_metric</th>\n",
       "      <th>most_delayed</th>\n",
       "      <th>most_cancelled</th>\n",
       "      <th>delayed_by_airline</th>\n",
       "      <th>cancelled_by_airline</th>\n",
       "      <th>delayed</th>\n",
       "      <th>cancelled</th>\n",
       "      <th>ontime</th>\n",
       "      <th>total_flights</th>\n",
       "      <th>...</th>\n",
       "      <th>tsa_South Checkpoint General.wait_time</th>\n",
       "      <th>tsa_South Checkpoint TSA PreCheck.lane_type</th>\n",
       "      <th>tsa_South Checkpoint TSA PreCheck.wait_time</th>\n",
       "      <th>tsa_West Checkpoint General.lane_type</th>\n",
       "      <th>tsa_West Checkpoint General.wait_time</th>\n",
       "      <th>year</th>\n",
       "      <th>month</th>\n",
       "      <th>day</th>\n",
       "      <th>hour</th>\n",
       "      <th>minute</th>\n",
       "    </tr>\n",
       "  </thead>\n",
       "  <tbody>\n",
       "    <tr>\n",
       "      <th>0</th>\n",
       "      <td>2025-02-16 19:23:50</td>\n",
       "      <td>0.551954</td>\n",
       "      <td>Southwest</td>\n",
       "      <td>Frontier</td>\n",
       "      <td>{'United': 10, 'American': 8, 'JetBlue': 12, '...</td>\n",
       "      <td>{'American': 1, 'Frontier': 4}</td>\n",
       "      <td>72</td>\n",
       "      <td>5</td>\n",
       "      <td>49</td>\n",
       "      <td>126</td>\n",
       "      <td>...</td>\n",
       "      <td>5</td>\n",
       "      <td>tsa_precheck</td>\n",
       "      <td>2</td>\n",
       "      <td>general</td>\n",
       "      <td>8</td>\n",
       "      <td>2025</td>\n",
       "      <td>2</td>\n",
       "      <td>16</td>\n",
       "      <td>19</td>\n",
       "      <td>23</td>\n",
       "    </tr>\n",
       "  </tbody>\n",
       "</table>\n",
       "<p>1 rows × 89 columns</p>\n",
       "</div>"
      ],
      "text/plain": [
       "            timestamp  score_metric most_delayed most_cancelled  \\\n",
       "0 2025-02-16 19:23:50      0.551954    Southwest       Frontier   \n",
       "\n",
       "                                  delayed_by_airline  \\\n",
       "0  {'United': 10, 'American': 8, 'JetBlue': 12, '...   \n",
       "\n",
       "             cancelled_by_airline  delayed  cancelled  ontime  total_flights  \\\n",
       "0  {'American': 1, 'Frontier': 4}       72          5      49            126   \n",
       "\n",
       "   ...  tsa_South Checkpoint General.wait_time  \\\n",
       "0  ...                                       5   \n",
       "\n",
       "   tsa_South Checkpoint TSA PreCheck.lane_type  \\\n",
       "0                                 tsa_precheck   \n",
       "\n",
       "   tsa_South Checkpoint TSA PreCheck.wait_time  \\\n",
       "0                                            2   \n",
       "\n",
       "   tsa_West Checkpoint General.lane_type  \\\n",
       "0                                general   \n",
       "\n",
       "  tsa_West Checkpoint General.wait_time  year  month  day  hour  minute  \n",
       "0                                     8  2025      2   16    19      23  \n",
       "\n",
       "[1 rows x 89 columns]"
      ]
     },
     "execution_count": 6,
     "metadata": {},
     "output_type": "execute_result"
    }
   ],
   "source": [
    "def safe_literal_eval(val):\n",
    "\tif isinstance(val, str):\n",
    "\t\treturn ast.literal_eval(val)\n",
    "\treturn val\n",
    "\n",
    "df['cancelled_by_airline'] = df['cancelled_by_airline'].apply(safe_literal_eval)\n",
    "df['delayed_by_airline'] = df['delayed_by_airline'].apply(safe_literal_eval)\n",
    "df['lane_wait_times'] = df['lane_wait_times'].apply(safe_literal_eval)\n",
    "\n",
    "cancelled_df = pd.json_normalize(df['cancelled_by_airline'])\n",
    "delayed_df = pd.json_normalize(df['delayed_by_airline'])\n",
    "waits_df = pd.json_normalize(df['lane_wait_times'])\n",
    "\n",
    "cancelled_df = cancelled_df.fillna(0).astype(int)\n",
    "delayed_df = delayed_df.fillna(0).astype(int)\n",
    "waits_df = waits_df.fillna(0)\n",
    "numeric_cols = [col for col in waits_df.columns if 'wait_time' in col]\n",
    "waits_df[numeric_cols] = waits_df[numeric_cols].astype(int)\n",
    "\n",
    "cancelled_df.columns = [f\"cancelled_{col}\" for col in cancelled_df.columns]\n",
    "delayed_df.columns = [f\"delayed_{col}\" for col in delayed_df.columns]\n",
    "waits_df.columns = [f\"tsa_{col}\" for col in waits_df.columns]\n",
    "\n",
    "df = df.join(cancelled_df).join(delayed_df).join(waits_df)\n",
    "df['timestamp'] = pd.to_datetime(df['timestamp'], format=\"mixed\")\n",
    "df['year'] = df['timestamp'].dt.year\n",
    "df['month'] = df['timestamp'].dt.month\n",
    "df['day'] = df['timestamp'].dt.day\n",
    "df['hour'] = df['timestamp'].dt.hour\n",
    "df['minute'] = df['timestamp'].dt.minute\n",
    "df.head(1)"
   ]
  },
  {
   "cell_type": "code",
   "execution_count": 7,
   "metadata": {},
   "outputs": [
    {
     "data": {
      "application/vnd.microsoft.datawrangler.viewer.v0+json": {
       "columns": [
        {
         "name": "index",
         "rawType": "int64",
         "type": "integer"
        },
        {
         "name": "day",
         "rawType": "int64",
         "type": "integer"
        },
        {
         "name": "hour",
         "rawType": "int64",
         "type": "integer"
        },
        {
         "name": "Is Night",
         "rawType": "int64",
         "type": "integer"
        },
        {
         "name": "Is Morning",
         "rawType": "int64",
         "type": "integer"
        },
        {
         "name": "Is Monday",
         "rawType": "int64",
         "type": "integer"
        },
        {
         "name": "Is Tuesday",
         "rawType": "int64",
         "type": "integer"
        },
        {
         "name": "Is Wednesday",
         "rawType": "int64",
         "type": "integer"
        },
        {
         "name": "Is Thursday",
         "rawType": "int64",
         "type": "integer"
        },
        {
         "name": "Is Friday",
         "rawType": "int64",
         "type": "integer"
        },
        {
         "name": "Is Saturday",
         "rawType": "int64",
         "type": "integer"
        },
        {
         "name": "Is Sunday",
         "rawType": "int64",
         "type": "integer"
        },
        {
         "name": "Is Weekend",
         "rawType": "int64",
         "type": "integer"
        },
        {
         "name": "Good Day",
         "rawType": "int64",
         "type": "integer"
        },
        {
         "name": "Ok Day",
         "rawType": "int64",
         "type": "integer"
        },
        {
         "name": "Bad Day",
         "rawType": "int64",
         "type": "integer"
        },
        {
         "name": "score_metric",
         "rawType": "float64",
         "type": "float"
        },
        {
         "name": "most_delayed",
         "rawType": "object",
         "type": "string"
        },
        {
         "name": "most_cancelled",
         "rawType": "object",
         "type": "string"
        },
        {
         "name": "delayed",
         "rawType": "int64",
         "type": "integer"
        },
        {
         "name": "cancelled",
         "rawType": "int64",
         "type": "integer"
        },
        {
         "name": "ontime",
         "rawType": "int64",
         "type": "integer"
        },
        {
         "name": "total_flights",
         "rawType": "int64",
         "type": "integer"
        },
        {
         "name": "average_general_wait",
         "rawType": "int64",
         "type": "integer"
        },
        {
         "name": "average_precheck_wait",
         "rawType": "int64",
         "type": "integer"
        },
        {
         "name": "average_overall_wait",
         "rawType": "int64",
         "type": "integer"
        },
        {
         "name": "cancelled_American",
         "rawType": "int64",
         "type": "integer"
        },
        {
         "name": "cancelled_Frontier",
         "rawType": "int64",
         "type": "integer"
        },
        {
         "name": "cancelled_Delta",
         "rawType": "int64",
         "type": "integer"
        },
        {
         "name": "cancelled_JetBlue",
         "rawType": "int64",
         "type": "integer"
        },
        {
         "name": "cancelled_Breeze Airways",
         "rawType": "int64",
         "type": "integer"
        },
        {
         "name": "cancelled_Spirit",
         "rawType": "int64",
         "type": "integer"
        },
        {
         "name": "cancelled_Air Canada",
         "rawType": "int64",
         "type": "integer"
        },
        {
         "name": "cancelled_Southwest",
         "rawType": "int64",
         "type": "integer"
        },
        {
         "name": "cancelled_Silver Airways",
         "rawType": "int64",
         "type": "integer"
        },
        {
         "name": "cancelled_Porter",
         "rawType": "int64",
         "type": "integer"
        },
        {
         "name": "cancelled_United",
         "rawType": "int64",
         "type": "integer"
        },
        {
         "name": "cancelled_Flair",
         "rawType": "int64",
         "type": "integer"
        },
        {
         "name": "cancelled_Sun Country",
         "rawType": "int64",
         "type": "integer"
        },
        {
         "name": "cancelled_Discover",
         "rawType": "int64",
         "type": "integer"
        },
        {
         "name": "cancelled_Aeromexico",
         "rawType": "int64",
         "type": "integer"
        },
        {
         "name": "cancelled_GOL",
         "rawType": "int64",
         "type": "integer"
        },
        {
         "name": "cancelled_Virgin Atlantic",
         "rawType": "int64",
         "type": "integer"
        },
        {
         "name": "cancelled_Alaska",
         "rawType": "int64",
         "type": "integer"
        },
        {
         "name": "cancelled_Azul",
         "rawType": "int64",
         "type": "integer"
        },
        {
         "name": "cancelled_Avianca",
         "rawType": "int64",
         "type": "integer"
        },
        {
         "name": "cancelled_WestJet",
         "rawType": "int64",
         "type": "integer"
        },
        {
         "name": "cancelled_Volaris",
         "rawType": "int64",
         "type": "integer"
        },
        {
         "name": "cancelled_Copa Airlines",
         "rawType": "int64",
         "type": "integer"
        },
        {
         "name": "cancelled_Icelandair",
         "rawType": "int64",
         "type": "integer"
        },
        {
         "name": "delayed_United",
         "rawType": "int64",
         "type": "integer"
        },
        {
         "name": "delayed_American",
         "rawType": "int64",
         "type": "integer"
        },
        {
         "name": "delayed_JetBlue",
         "rawType": "int64",
         "type": "integer"
        },
        {
         "name": "delayed_Delta",
         "rawType": "int64",
         "type": "integer"
        },
        {
         "name": "delayed_Southwest",
         "rawType": "int64",
         "type": "integer"
        },
        {
         "name": "delayed_Spirit",
         "rawType": "int64",
         "type": "integer"
        },
        {
         "name": "delayed_Breeze Airways",
         "rawType": "int64",
         "type": "integer"
        },
        {
         "name": "delayed_Frontier",
         "rawType": "int64",
         "type": "integer"
        },
        {
         "name": "delayed_Sun Country",
         "rawType": "int64",
         "type": "integer"
        },
        {
         "name": "delayed_Silver Airways",
         "rawType": "int64",
         "type": "integer"
        },
        {
         "name": "delayed_Alaska",
         "rawType": "int64",
         "type": "integer"
        },
        {
         "name": "delayed_Porter",
         "rawType": "int64",
         "type": "integer"
        },
        {
         "name": "delayed_WestJet",
         "rawType": "int64",
         "type": "integer"
        },
        {
         "name": "delayed_Avianca",
         "rawType": "int64",
         "type": "integer"
        },
        {
         "name": "delayed_Avelo Airlines",
         "rawType": "int64",
         "type": "integer"
        },
        {
         "name": "delayed_Virgin Atlantic",
         "rawType": "int64",
         "type": "integer"
        },
        {
         "name": "delayed_Air Canada",
         "rawType": "int64",
         "type": "integer"
        },
        {
         "name": "delayed_Flair",
         "rawType": "int64",
         "type": "integer"
        },
        {
         "name": "delayed_British Airways",
         "rawType": "int64",
         "type": "integer"
        },
        {
         "name": "delayed_LATAM",
         "rawType": "int64",
         "type": "integer"
        },
        {
         "name": "delayed_LAN Chile",
         "rawType": "int64",
         "type": "integer"
        },
        {
         "name": "delayed_Bahamasair",
         "rawType": "int64",
         "type": "integer"
        },
        {
         "name": "delayed_Discover",
         "rawType": "int64",
         "type": "integer"
        },
        {
         "name": "delayed_Air Transat",
         "rawType": "int64",
         "type": "integer"
        },
        {
         "name": "delayed_Allegiant Air",
         "rawType": "int64",
         "type": "integer"
        },
        {
         "name": "delayed_Volaris",
         "rawType": "int64",
         "type": "integer"
        },
        {
         "name": "delayed_GOL",
         "rawType": "int64",
         "type": "integer"
        },
        {
         "name": "delayed_Azul",
         "rawType": "int64",
         "type": "integer"
        },
        {
         "name": "delayed_Aer Lingus",
         "rawType": "int64",
         "type": "integer"
        },
        {
         "name": "delayed_Emirates",
         "rawType": "int64",
         "type": "integer"
        },
        {
         "name": "delayed_Latam Colombia",
         "rawType": "int64",
         "type": "integer"
        },
        {
         "name": "delayed_Aeromexico",
         "rawType": "int64",
         "type": "integer"
        },
        {
         "name": "delayed_Vivaaerobus",
         "rawType": "int64",
         "type": "integer"
        },
        {
         "name": "delayed_Copa Airlines",
         "rawType": "int64",
         "type": "integer"
        },
        {
         "name": "delayed_BermudAir",
         "rawType": "int64",
         "type": "integer"
        },
        {
         "name": "delayed_Norse Atlantic UK",
         "rawType": "int64",
         "type": "integer"
        },
        {
         "name": "tsa_East Checkpoint General.wait_time",
         "rawType": "int64",
         "type": "integer"
        },
        {
         "name": "tsa_South Checkpoint General.wait_time",
         "rawType": "int64",
         "type": "integer"
        },
        {
         "name": "tsa_South Checkpoint TSA PreCheck.wait_time",
         "rawType": "int64",
         "type": "integer"
        },
        {
         "name": "tsa_West Checkpoint General.wait_time",
         "rawType": "int64",
         "type": "integer"
        },
        {
         "name": "Gates 1-29 Seat Profile",
         "rawType": "float64",
         "type": "float"
        },
        {
         "name": "Gates 100-129 Seat Profile",
         "rawType": "float64",
         "type": "float"
        },
        {
         "name": "Gates 30-59 Seat Profile",
         "rawType": "float64",
         "type": "float"
        },
        {
         "name": "Gates 70-99 Seat Profile",
         "rawType": "float64",
         "type": "float"
        },
        {
         "name": "Gates 230-245 Seat Profile",
         "rawType": "object",
         "type": "string"
        },
        {
         "name": "Gates 1-29 Security Demand",
         "rawType": "float64",
         "type": "float"
        },
        {
         "name": "Gates 100-129 Security Demand",
         "rawType": "float64",
         "type": "float"
        },
        {
         "name": "Gates 30-59 Security Demand",
         "rawType": "float64",
         "type": "float"
        },
        {
         "name": "Gates 70-99 Security Demand",
         "rawType": "float64",
         "type": "float"
        },
        {
         "name": "Gates 230-245 Security Demand",
         "rawType": "float64",
         "type": "float"
        }
       ],
       "conversionMethod": "pd.DataFrame",
       "ref": "d080c38c-7063-425c-a4f2-f0c09177f6ad",
       "rows": [
        [
         "0",
         "7",
         "19",
         "0",
         "0",
         "0",
         "0",
         "0",
         "0",
         "0",
         "0",
         "0",
         "0",
         "0",
         "0",
         "1",
         "0.5519537558",
         "Southwest",
         "Frontier",
         "72",
         "5",
         "49",
         "126",
         "7",
         "2",
         "5",
         "1",
         "4",
         "0",
         "0",
         "0",
         "0",
         "0",
         "0",
         "0",
         "0",
         "0",
         "0",
         "0",
         "0",
         "0",
         "0",
         "0",
         "0",
         "0",
         "0",
         "0",
         "0",
         "0",
         "0",
         "10",
         "8",
         "12",
         "9",
         "19",
         "6",
         "2",
         "2",
         "1",
         "1",
         "1",
         "1",
         "0",
         "0",
         "0",
         "0",
         "0",
         "0",
         "0",
         "0",
         "0",
         "0",
         "0",
         "0",
         "0",
         "0",
         "0",
         "0",
         "0",
         "0",
         "0",
         "0",
         "0",
         "0",
         "0",
         "0",
         "8",
         "5",
         "2",
         "8",
         "790.0",
         "1511.0",
         "201.0",
         "1816.0",
         "762",
         "920.5",
         "1473.0",
         "201.0",
         "657.5",
         "1384.5"
        ],
        [
         "1",
         "7",
         "19",
         "0",
         "0",
         "0",
         "0",
         "0",
         "0",
         "0",
         "0",
         "1",
         "1",
         "0",
         "0",
         "1",
         "0.5519537558",
         "Southwest",
         "Frontier",
         "72",
         "5",
         "49",
         "126",
         "7",
         "2",
         "5",
         "1",
         "4",
         "0",
         "0",
         "0",
         "0",
         "0",
         "0",
         "0",
         "0",
         "0",
         "0",
         "0",
         "0",
         "0",
         "0",
         "0",
         "0",
         "0",
         "0",
         "0",
         "0",
         "0",
         "0",
         "10",
         "8",
         "12",
         "9",
         "19",
         "6",
         "2",
         "2",
         "1",
         "1",
         "1",
         "1",
         "0",
         "0",
         "0",
         "0",
         "0",
         "0",
         "0",
         "0",
         "0",
         "0",
         "0",
         "0",
         "0",
         "0",
         "0",
         "0",
         "0",
         "0",
         "0",
         "0",
         "0",
         "0",
         "0",
         "0",
         "8",
         "5",
         "2",
         "8",
         "790.0",
         "1511.0",
         "201.0",
         "1816.0",
         "762",
         "920.5",
         "1473.0",
         "201.0",
         "657.5",
         "1384.5"
        ],
        [
         "2",
         "7",
         "23",
         "0",
         "0",
         "0",
         "0",
         "0",
         "0",
         "0",
         "0",
         "1",
         "1",
         "0",
         "0",
         "1",
         "0.3343439838",
         "Southwest",
         "Delta",
         "17",
         "10",
         "9",
         "36",
         "4",
         "2",
         "3",
         "0",
         "1",
         "4",
         "2",
         "1",
         "1",
         "1",
         "0",
         "0",
         "0",
         "0",
         "0",
         "0",
         "0",
         "0",
         "0",
         "0",
         "0",
         "0",
         "0",
         "0",
         "0",
         "0",
         "0",
         "1",
         "0",
         "4",
         "1",
         "5",
         "2",
         "0",
         "3",
         "0",
         "0",
         "0",
         "0",
         "1",
         "0",
         "0",
         "0",
         "0",
         "0",
         "0",
         "0",
         "0",
         "0",
         "0",
         "0",
         "0",
         "0",
         "0",
         "0",
         "0",
         "0",
         "0",
         "0",
         "0",
         "0",
         "0",
         "0",
         "5",
         "2",
         "2",
         "5",
         "1301.0",
         "318.0",
         "0.0",
         "0.0",
         "522",
         "362.0",
         "0.0",
         "0.0",
         "0.0",
         "0.0"
        ],
        [
         "3",
         "1",
         "9",
         "0",
         "0",
         "0",
         "0",
         "0",
         "0",
         "0",
         "0",
         "1",
         "1",
         "0",
         "0",
         "1",
         "0.4372367742",
         "Delta",
         "Breeze Airways",
         "30",
         "9",
         "74",
         "113",
         "6",
         "3",
         "5",
         "1",
         "0",
         "1",
         "0",
         "2",
         "1",
         "1",
         "1",
         "1",
         "1",
         "0",
         "0",
         "0",
         "0",
         "0",
         "0",
         "0",
         "0",
         "0",
         "0",
         "0",
         "0",
         "0",
         "0",
         "2",
         "0",
         "5",
         "7",
         "7",
         "4",
         "1",
         "2",
         "0",
         "0",
         "0",
         "0",
         "2",
         "0",
         "0",
         "0",
         "0",
         "0",
         "0",
         "0",
         "0",
         "0",
         "0",
         "0",
         "0",
         "0",
         "0",
         "0",
         "0",
         "0",
         "0",
         "0",
         "0",
         "0",
         "0",
         "0",
         "6",
         "2",
         "3",
         "10",
         "2039.0",
         "1479.0",
         "1101.5",
         "1952.0",
         "524",
         "1057.0",
         "2040.5",
         "1101.5",
         "599.5",
         "921.5"
        ],
        [
         "4",
         "1",
         "19",
         "1",
         "1",
         "1",
         "0",
         "0",
         "0",
         "0",
         "0",
         "0",
         "0",
         "0",
         "0",
         "1",
         "0.5439408907",
         "Southwest",
         "Air Canada",
         "89",
         "5",
         "29",
         "123",
         "8",
         "2",
         "7",
         "0",
         "2",
         "0",
         "1",
         "0",
         "0",
         "2",
         "0",
         "0",
         "0",
         "0",
         "0",
         "0",
         "0",
         "0",
         "0",
         "0",
         "0",
         "0",
         "0",
         "0",
         "0",
         "0",
         "0",
         "6",
         "13",
         "12",
         "13",
         "22",
         "5",
         "1",
         "7",
         "2",
         "0",
         "2",
         "1",
         "0",
         "1",
         "2",
         "1",
         "1",
         "0",
         "0",
         "0",
         "0",
         "0",
         "0",
         "0",
         "0",
         "0",
         "0",
         "0",
         "0",
         "0",
         "0",
         "0",
         "0",
         "0",
         "0",
         "0",
         "16",
         "4",
         "2",
         "6",
         "784.0",
         "1718.0",
         "276.5",
         "1616.0",
         "745",
         "1104.5",
         "1951.5",
         "276.5",
         "657.5",
         "1671.5"
        ]
       ],
       "shape": {
        "columns": 99,
        "rows": 5
       }
      },
      "text/html": [
       "<div>\n",
       "<style scoped>\n",
       "    .dataframe tbody tr th:only-of-type {\n",
       "        vertical-align: middle;\n",
       "    }\n",
       "\n",
       "    .dataframe tbody tr th {\n",
       "        vertical-align: top;\n",
       "    }\n",
       "\n",
       "    .dataframe thead th {\n",
       "        text-align: right;\n",
       "    }\n",
       "</style>\n",
       "<table border=\"1\" class=\"dataframe\">\n",
       "  <thead>\n",
       "    <tr style=\"text-align: right;\">\n",
       "      <th></th>\n",
       "      <th>day</th>\n",
       "      <th>hour</th>\n",
       "      <th>Is Night</th>\n",
       "      <th>Is Morning</th>\n",
       "      <th>Is Monday</th>\n",
       "      <th>Is Tuesday</th>\n",
       "      <th>Is Wednesday</th>\n",
       "      <th>Is Thursday</th>\n",
       "      <th>Is Friday</th>\n",
       "      <th>Is Saturday</th>\n",
       "      <th>...</th>\n",
       "      <th>Gates 1-29 Seat Profile</th>\n",
       "      <th>Gates 100-129 Seat Profile</th>\n",
       "      <th>Gates 30-59 Seat Profile</th>\n",
       "      <th>Gates 70-99 Seat Profile</th>\n",
       "      <th>Gates 230-245 Seat Profile</th>\n",
       "      <th>Gates 1-29 Security Demand</th>\n",
       "      <th>Gates 100-129 Security Demand</th>\n",
       "      <th>Gates 30-59 Security Demand</th>\n",
       "      <th>Gates 70-99 Security Demand</th>\n",
       "      <th>Gates 230-245 Security Demand</th>\n",
       "    </tr>\n",
       "  </thead>\n",
       "  <tbody>\n",
       "    <tr>\n",
       "      <th>0</th>\n",
       "      <td>7</td>\n",
       "      <td>19</td>\n",
       "      <td>0</td>\n",
       "      <td>0</td>\n",
       "      <td>0</td>\n",
       "      <td>0</td>\n",
       "      <td>0</td>\n",
       "      <td>0</td>\n",
       "      <td>0</td>\n",
       "      <td>0</td>\n",
       "      <td>...</td>\n",
       "      <td>790.0</td>\n",
       "      <td>1511.0</td>\n",
       "      <td>201.0</td>\n",
       "      <td>1816.0</td>\n",
       "      <td>762</td>\n",
       "      <td>920.5</td>\n",
       "      <td>1473.0</td>\n",
       "      <td>201.0</td>\n",
       "      <td>657.5</td>\n",
       "      <td>1384.5</td>\n",
       "    </tr>\n",
       "    <tr>\n",
       "      <th>1</th>\n",
       "      <td>7</td>\n",
       "      <td>19</td>\n",
       "      <td>0</td>\n",
       "      <td>0</td>\n",
       "      <td>0</td>\n",
       "      <td>0</td>\n",
       "      <td>0</td>\n",
       "      <td>0</td>\n",
       "      <td>0</td>\n",
       "      <td>0</td>\n",
       "      <td>...</td>\n",
       "      <td>790.0</td>\n",
       "      <td>1511.0</td>\n",
       "      <td>201.0</td>\n",
       "      <td>1816.0</td>\n",
       "      <td>762</td>\n",
       "      <td>920.5</td>\n",
       "      <td>1473.0</td>\n",
       "      <td>201.0</td>\n",
       "      <td>657.5</td>\n",
       "      <td>1384.5</td>\n",
       "    </tr>\n",
       "    <tr>\n",
       "      <th>2</th>\n",
       "      <td>7</td>\n",
       "      <td>23</td>\n",
       "      <td>0</td>\n",
       "      <td>0</td>\n",
       "      <td>0</td>\n",
       "      <td>0</td>\n",
       "      <td>0</td>\n",
       "      <td>0</td>\n",
       "      <td>0</td>\n",
       "      <td>0</td>\n",
       "      <td>...</td>\n",
       "      <td>1301.0</td>\n",
       "      <td>318.0</td>\n",
       "      <td>0.0</td>\n",
       "      <td>0.0</td>\n",
       "      <td>522</td>\n",
       "      <td>362.0</td>\n",
       "      <td>0.0</td>\n",
       "      <td>0.0</td>\n",
       "      <td>0.0</td>\n",
       "      <td>0.0</td>\n",
       "    </tr>\n",
       "    <tr>\n",
       "      <th>3</th>\n",
       "      <td>1</td>\n",
       "      <td>9</td>\n",
       "      <td>0</td>\n",
       "      <td>0</td>\n",
       "      <td>0</td>\n",
       "      <td>0</td>\n",
       "      <td>0</td>\n",
       "      <td>0</td>\n",
       "      <td>0</td>\n",
       "      <td>0</td>\n",
       "      <td>...</td>\n",
       "      <td>2039.0</td>\n",
       "      <td>1479.0</td>\n",
       "      <td>1101.5</td>\n",
       "      <td>1952.0</td>\n",
       "      <td>524</td>\n",
       "      <td>1057.0</td>\n",
       "      <td>2040.5</td>\n",
       "      <td>1101.5</td>\n",
       "      <td>599.5</td>\n",
       "      <td>921.5</td>\n",
       "    </tr>\n",
       "    <tr>\n",
       "      <th>4</th>\n",
       "      <td>1</td>\n",
       "      <td>19</td>\n",
       "      <td>1</td>\n",
       "      <td>1</td>\n",
       "      <td>1</td>\n",
       "      <td>0</td>\n",
       "      <td>0</td>\n",
       "      <td>0</td>\n",
       "      <td>0</td>\n",
       "      <td>0</td>\n",
       "      <td>...</td>\n",
       "      <td>784.0</td>\n",
       "      <td>1718.0</td>\n",
       "      <td>276.5</td>\n",
       "      <td>1616.0</td>\n",
       "      <td>745</td>\n",
       "      <td>1104.5</td>\n",
       "      <td>1951.5</td>\n",
       "      <td>276.5</td>\n",
       "      <td>657.5</td>\n",
       "      <td>1671.5</td>\n",
       "    </tr>\n",
       "  </tbody>\n",
       "</table>\n",
       "<p>5 rows × 99 columns</p>\n",
       "</div>"
      ],
      "text/plain": [
       "   day  hour  Is Night  Is Morning  Is Monday  Is Tuesday  Is Wednesday  \\\n",
       "0    7    19         0           0          0           0             0   \n",
       "1    7    19         0           0          0           0             0   \n",
       "2    7    23         0           0          0           0             0   \n",
       "3    1     9         0           0          0           0             0   \n",
       "4    1    19         1           1          1           0             0   \n",
       "\n",
       "   Is Thursday  Is Friday  Is Saturday  ...  Gates 1-29 Seat Profile  \\\n",
       "0            0          0            0  ...                    790.0   \n",
       "1            0          0            0  ...                    790.0   \n",
       "2            0          0            0  ...                   1301.0   \n",
       "3            0          0            0  ...                   2039.0   \n",
       "4            0          0            0  ...                    784.0   \n",
       "\n",
       "   Gates 100-129 Seat Profile  Gates 30-59 Seat Profile  \\\n",
       "0                      1511.0                     201.0   \n",
       "1                      1511.0                     201.0   \n",
       "2                       318.0                       0.0   \n",
       "3                      1479.0                    1101.5   \n",
       "4                      1718.0                     276.5   \n",
       "\n",
       "   Gates 70-99 Seat Profile  Gates 230-245 Seat Profile  \\\n",
       "0                    1816.0                         762   \n",
       "1                    1816.0                         762   \n",
       "2                       0.0                         522   \n",
       "3                    1952.0                         524   \n",
       "4                    1616.0                         745   \n",
       "\n",
       "   Gates 1-29 Security Demand Gates 100-129 Security Demand  \\\n",
       "0                       920.5                        1473.0   \n",
       "1                       920.5                        1473.0   \n",
       "2                       362.0                           0.0   \n",
       "3                      1057.0                        2040.5   \n",
       "4                      1104.5                        1951.5   \n",
       "\n",
       "  Gates 30-59 Security Demand  Gates 70-99 Security Demand  \\\n",
       "0                       201.0                        657.5   \n",
       "1                       201.0                        657.5   \n",
       "2                         0.0                          0.0   \n",
       "3                      1101.5                        599.5   \n",
       "4                       276.5                        657.5   \n",
       "\n",
       "   Gates 230-245 Security Demand  \n",
       "0                         1384.5  \n",
       "1                         1384.5  \n",
       "2                            0.0  \n",
       "3                          921.5  \n",
       "4                         1671.5  \n",
       "\n",
       "[5 rows x 99 columns]"
      ]
     },
     "execution_count": 7,
     "metadata": {},
     "output_type": "execute_result"
    }
   ],
   "source": [
    "df_clean = pd.read_csv(\"mcodemandclean.csv\")\n",
    "df_clean = df_clean.drop(columns=[\"timestamp\",\"year\",\"Time ID\",\"month\"])\n",
    "df_clean.head()"
   ]
  },
  {
   "cell_type": "code",
   "execution_count": 8,
   "metadata": {},
   "outputs": [
    {
     "data": {
      "application/vnd.microsoft.datawrangler.viewer.v0+json": {
       "columns": [
        {
         "name": "index",
         "rawType": "int64",
         "type": "integer"
        },
        {
         "name": "Is Night",
         "rawType": "int64",
         "type": "integer"
        },
        {
         "name": "Is Morning",
         "rawType": "int64",
         "type": "integer"
        },
        {
         "name": "Is Monday",
         "rawType": "int64",
         "type": "integer"
        },
        {
         "name": "Is Tuesday",
         "rawType": "int64",
         "type": "integer"
        },
        {
         "name": "Is Wednesday",
         "rawType": "int64",
         "type": "integer"
        },
        {
         "name": "Is Thursday",
         "rawType": "int64",
         "type": "integer"
        },
        {
         "name": "Is Friday",
         "rawType": "int64",
         "type": "integer"
        },
        {
         "name": "Is Saturday",
         "rawType": "int64",
         "type": "integer"
        },
        {
         "name": "Is Sunday",
         "rawType": "int64",
         "type": "integer"
        },
        {
         "name": "Is Weekend",
         "rawType": "int64",
         "type": "integer"
        },
        {
         "name": "Good Day",
         "rawType": "int64",
         "type": "integer"
        },
        {
         "name": "Ok Day",
         "rawType": "int64",
         "type": "integer"
        },
        {
         "name": "Bad Day",
         "rawType": "int64",
         "type": "integer"
        },
        {
         "name": "score_metric",
         "rawType": "float64",
         "type": "float"
        },
        {
         "name": "delayed",
         "rawType": "int64",
         "type": "integer"
        },
        {
         "name": "cancelled",
         "rawType": "int64",
         "type": "integer"
        },
        {
         "name": "ontime",
         "rawType": "int64",
         "type": "integer"
        },
        {
         "name": "total_flights",
         "rawType": "int64",
         "type": "integer"
        },
        {
         "name": "average_general_wait",
         "rawType": "int64",
         "type": "integer"
        },
        {
         "name": "average_precheck_wait",
         "rawType": "int64",
         "type": "integer"
        },
        {
         "name": "average_overall_wait",
         "rawType": "int64",
         "type": "integer"
        },
        {
         "name": "cancelled_American",
         "rawType": "int64",
         "type": "integer"
        },
        {
         "name": "cancelled_Frontier",
         "rawType": "int64",
         "type": "integer"
        },
        {
         "name": "cancelled_Delta",
         "rawType": "int64",
         "type": "integer"
        },
        {
         "name": "cancelled_JetBlue",
         "rawType": "int64",
         "type": "integer"
        },
        {
         "name": "cancelled_Breeze Airways",
         "rawType": "int64",
         "type": "integer"
        },
        {
         "name": "cancelled_Spirit",
         "rawType": "int64",
         "type": "integer"
        },
        {
         "name": "cancelled_Air Canada",
         "rawType": "int64",
         "type": "integer"
        },
        {
         "name": "cancelled_Southwest",
         "rawType": "int64",
         "type": "integer"
        },
        {
         "name": "cancelled_Silver Airways",
         "rawType": "int64",
         "type": "integer"
        },
        {
         "name": "cancelled_Porter",
         "rawType": "int64",
         "type": "integer"
        },
        {
         "name": "cancelled_United",
         "rawType": "int64",
         "type": "integer"
        },
        {
         "name": "cancelled_Flair",
         "rawType": "int64",
         "type": "integer"
        },
        {
         "name": "cancelled_Sun Country",
         "rawType": "int64",
         "type": "integer"
        },
        {
         "name": "cancelled_Discover",
         "rawType": "int64",
         "type": "integer"
        },
        {
         "name": "cancelled_Aeromexico",
         "rawType": "int64",
         "type": "integer"
        },
        {
         "name": "cancelled_GOL",
         "rawType": "int64",
         "type": "integer"
        },
        {
         "name": "cancelled_Virgin Atlantic",
         "rawType": "int64",
         "type": "integer"
        },
        {
         "name": "cancelled_Alaska",
         "rawType": "int64",
         "type": "integer"
        },
        {
         "name": "cancelled_Azul",
         "rawType": "int64",
         "type": "integer"
        },
        {
         "name": "cancelled_Avianca",
         "rawType": "int64",
         "type": "integer"
        },
        {
         "name": "cancelled_WestJet",
         "rawType": "int64",
         "type": "integer"
        },
        {
         "name": "cancelled_Volaris",
         "rawType": "int64",
         "type": "integer"
        },
        {
         "name": "cancelled_Copa Airlines",
         "rawType": "int64",
         "type": "integer"
        },
        {
         "name": "cancelled_Icelandair",
         "rawType": "int64",
         "type": "integer"
        },
        {
         "name": "delayed_United",
         "rawType": "int64",
         "type": "integer"
        },
        {
         "name": "delayed_American",
         "rawType": "int64",
         "type": "integer"
        },
        {
         "name": "delayed_JetBlue",
         "rawType": "int64",
         "type": "integer"
        },
        {
         "name": "delayed_Delta",
         "rawType": "int64",
         "type": "integer"
        },
        {
         "name": "delayed_Southwest",
         "rawType": "int64",
         "type": "integer"
        },
        {
         "name": "delayed_Spirit",
         "rawType": "int64",
         "type": "integer"
        },
        {
         "name": "delayed_Breeze Airways",
         "rawType": "int64",
         "type": "integer"
        },
        {
         "name": "delayed_Frontier",
         "rawType": "int64",
         "type": "integer"
        },
        {
         "name": "delayed_Sun Country",
         "rawType": "int64",
         "type": "integer"
        },
        {
         "name": "delayed_Silver Airways",
         "rawType": "int64",
         "type": "integer"
        },
        {
         "name": "delayed_Alaska",
         "rawType": "int64",
         "type": "integer"
        },
        {
         "name": "delayed_Porter",
         "rawType": "int64",
         "type": "integer"
        },
        {
         "name": "delayed_WestJet",
         "rawType": "int64",
         "type": "integer"
        },
        {
         "name": "delayed_Avianca",
         "rawType": "int64",
         "type": "integer"
        },
        {
         "name": "delayed_Avelo Airlines",
         "rawType": "int64",
         "type": "integer"
        },
        {
         "name": "delayed_Virgin Atlantic",
         "rawType": "int64",
         "type": "integer"
        },
        {
         "name": "delayed_Air Canada",
         "rawType": "int64",
         "type": "integer"
        },
        {
         "name": "delayed_Flair",
         "rawType": "int64",
         "type": "integer"
        },
        {
         "name": "delayed_British Airways",
         "rawType": "int64",
         "type": "integer"
        },
        {
         "name": "delayed_LATAM",
         "rawType": "int64",
         "type": "integer"
        },
        {
         "name": "delayed_LAN Chile",
         "rawType": "int64",
         "type": "integer"
        },
        {
         "name": "delayed_Bahamasair",
         "rawType": "int64",
         "type": "integer"
        },
        {
         "name": "delayed_Discover",
         "rawType": "int64",
         "type": "integer"
        },
        {
         "name": "delayed_Air Transat",
         "rawType": "int64",
         "type": "integer"
        },
        {
         "name": "delayed_Allegiant Air",
         "rawType": "int64",
         "type": "integer"
        },
        {
         "name": "delayed_Volaris",
         "rawType": "int64",
         "type": "integer"
        },
        {
         "name": "delayed_GOL",
         "rawType": "int64",
         "type": "integer"
        },
        {
         "name": "delayed_Azul",
         "rawType": "int64",
         "type": "integer"
        },
        {
         "name": "delayed_Aer Lingus",
         "rawType": "int64",
         "type": "integer"
        },
        {
         "name": "delayed_Emirates",
         "rawType": "int64",
         "type": "integer"
        },
        {
         "name": "delayed_Latam Colombia",
         "rawType": "int64",
         "type": "integer"
        },
        {
         "name": "delayed_Aeromexico",
         "rawType": "int64",
         "type": "integer"
        },
        {
         "name": "delayed_Vivaaerobus",
         "rawType": "int64",
         "type": "integer"
        },
        {
         "name": "delayed_Copa Airlines",
         "rawType": "int64",
         "type": "integer"
        },
        {
         "name": "delayed_BermudAir",
         "rawType": "int64",
         "type": "integer"
        },
        {
         "name": "delayed_Norse Atlantic UK",
         "rawType": "int64",
         "type": "integer"
        },
        {
         "name": "tsa_East Checkpoint General.wait_time",
         "rawType": "int64",
         "type": "integer"
        },
        {
         "name": "tsa_South Checkpoint General.wait_time",
         "rawType": "int64",
         "type": "integer"
        },
        {
         "name": "tsa_South Checkpoint TSA PreCheck.wait_time",
         "rawType": "int64",
         "type": "integer"
        },
        {
         "name": "tsa_West Checkpoint General.wait_time",
         "rawType": "int64",
         "type": "integer"
        },
        {
         "name": "Gates 1-29 Seat Profile",
         "rawType": "float64",
         "type": "float"
        },
        {
         "name": "Gates 100-129 Seat Profile",
         "rawType": "float64",
         "type": "float"
        },
        {
         "name": "Gates 30-59 Seat Profile",
         "rawType": "float64",
         "type": "float"
        },
        {
         "name": "Gates 70-99 Seat Profile",
         "rawType": "float64",
         "type": "float"
        },
        {
         "name": "Gates 230-245 Seat Profile",
         "rawType": "object",
         "type": "string"
        },
        {
         "name": "Gates 1-29 Security Demand",
         "rawType": "float64",
         "type": "float"
        },
        {
         "name": "Gates 100-129 Security Demand",
         "rawType": "float64",
         "type": "float"
        },
        {
         "name": "Gates 30-59 Security Demand",
         "rawType": "float64",
         "type": "float"
        },
        {
         "name": "Gates 70-99 Security Demand",
         "rawType": "float64",
         "type": "float"
        },
        {
         "name": "Gates 230-245 Security Demand",
         "rawType": "float64",
         "type": "float"
        },
        {
         "name": "day_2",
         "rawType": "bool",
         "type": "boolean"
        },
        {
         "name": "day_3",
         "rawType": "bool",
         "type": "boolean"
        },
        {
         "name": "day_4",
         "rawType": "bool",
         "type": "boolean"
        },
        {
         "name": "day_5",
         "rawType": "bool",
         "type": "boolean"
        },
        {
         "name": "day_6",
         "rawType": "bool",
         "type": "boolean"
        },
        {
         "name": "day_7",
         "rawType": "bool",
         "type": "boolean"
        },
        {
         "name": "hour_1",
         "rawType": "bool",
         "type": "boolean"
        },
        {
         "name": "hour_2",
         "rawType": "bool",
         "type": "boolean"
        },
        {
         "name": "hour_3",
         "rawType": "bool",
         "type": "boolean"
        },
        {
         "name": "hour_4",
         "rawType": "bool",
         "type": "boolean"
        },
        {
         "name": "hour_5",
         "rawType": "bool",
         "type": "boolean"
        },
        {
         "name": "hour_6",
         "rawType": "bool",
         "type": "boolean"
        },
        {
         "name": "hour_7",
         "rawType": "bool",
         "type": "boolean"
        },
        {
         "name": "hour_8",
         "rawType": "bool",
         "type": "boolean"
        },
        {
         "name": "hour_9",
         "rawType": "bool",
         "type": "boolean"
        },
        {
         "name": "hour_10",
         "rawType": "bool",
         "type": "boolean"
        },
        {
         "name": "hour_11",
         "rawType": "bool",
         "type": "boolean"
        },
        {
         "name": "hour_12",
         "rawType": "bool",
         "type": "boolean"
        },
        {
         "name": "hour_13",
         "rawType": "bool",
         "type": "boolean"
        },
        {
         "name": "hour_14",
         "rawType": "bool",
         "type": "boolean"
        },
        {
         "name": "hour_15",
         "rawType": "bool",
         "type": "boolean"
        },
        {
         "name": "hour_16",
         "rawType": "bool",
         "type": "boolean"
        },
        {
         "name": "hour_17",
         "rawType": "bool",
         "type": "boolean"
        },
        {
         "name": "hour_18",
         "rawType": "bool",
         "type": "boolean"
        },
        {
         "name": "hour_19",
         "rawType": "bool",
         "type": "boolean"
        },
        {
         "name": "hour_20",
         "rawType": "bool",
         "type": "boolean"
        },
        {
         "name": "hour_21",
         "rawType": "bool",
         "type": "boolean"
        },
        {
         "name": "hour_22",
         "rawType": "bool",
         "type": "boolean"
        },
        {
         "name": "hour_23",
         "rawType": "bool",
         "type": "boolean"
        },
        {
         "name": "most_delayed_Air Canada",
         "rawType": "bool",
         "type": "boolean"
        },
        {
         "name": "most_delayed_Air Transat",
         "rawType": "bool",
         "type": "boolean"
        },
        {
         "name": "most_delayed_Alaska",
         "rawType": "bool",
         "type": "boolean"
        },
        {
         "name": "most_delayed_American",
         "rawType": "bool",
         "type": "boolean"
        },
        {
         "name": "most_delayed_Avelo Airlines",
         "rawType": "bool",
         "type": "boolean"
        },
        {
         "name": "most_delayed_Breeze Airways",
         "rawType": "bool",
         "type": "boolean"
        },
        {
         "name": "most_delayed_British Airways",
         "rawType": "bool",
         "type": "boolean"
        },
        {
         "name": "most_delayed_Delta",
         "rawType": "bool",
         "type": "boolean"
        },
        {
         "name": "most_delayed_Discover",
         "rawType": "bool",
         "type": "boolean"
        },
        {
         "name": "most_delayed_Emirates",
         "rawType": "bool",
         "type": "boolean"
        },
        {
         "name": "most_delayed_Flair",
         "rawType": "bool",
         "type": "boolean"
        },
        {
         "name": "most_delayed_Frontier",
         "rawType": "bool",
         "type": "boolean"
        },
        {
         "name": "most_delayed_JetBlue",
         "rawType": "bool",
         "type": "boolean"
        },
        {
         "name": "most_delayed_LAN Chile",
         "rawType": "bool",
         "type": "boolean"
        },
        {
         "name": "most_delayed_Norse Atlantic UK",
         "rawType": "bool",
         "type": "boolean"
        },
        {
         "name": "most_delayed_Porter",
         "rawType": "bool",
         "type": "boolean"
        },
        {
         "name": "most_delayed_Silver Airways",
         "rawType": "bool",
         "type": "boolean"
        },
        {
         "name": "most_delayed_Southwest",
         "rawType": "bool",
         "type": "boolean"
        },
        {
         "name": "most_delayed_Spirit",
         "rawType": "bool",
         "type": "boolean"
        },
        {
         "name": "most_delayed_Sun Country",
         "rawType": "bool",
         "type": "boolean"
        },
        {
         "name": "most_delayed_United",
         "rawType": "bool",
         "type": "boolean"
        },
        {
         "name": "most_delayed_Virgin Atlantic",
         "rawType": "bool",
         "type": "boolean"
        },
        {
         "name": "most_delayed_WestJet",
         "rawType": "bool",
         "type": "boolean"
        },
        {
         "name": "most_cancelled_Air Canada",
         "rawType": "bool",
         "type": "boolean"
        },
        {
         "name": "most_cancelled_Alaska",
         "rawType": "bool",
         "type": "boolean"
        },
        {
         "name": "most_cancelled_American",
         "rawType": "bool",
         "type": "boolean"
        },
        {
         "name": "most_cancelled_Avianca",
         "rawType": "bool",
         "type": "boolean"
        },
        {
         "name": "most_cancelled_Breeze Airways",
         "rawType": "bool",
         "type": "boolean"
        },
        {
         "name": "most_cancelled_Delta",
         "rawType": "bool",
         "type": "boolean"
        },
        {
         "name": "most_cancelled_Discover",
         "rawType": "bool",
         "type": "boolean"
        },
        {
         "name": "most_cancelled_Flair",
         "rawType": "bool",
         "type": "boolean"
        },
        {
         "name": "most_cancelled_Frontier",
         "rawType": "bool",
         "type": "boolean"
        },
        {
         "name": "most_cancelled_GOL",
         "rawType": "bool",
         "type": "boolean"
        },
        {
         "name": "most_cancelled_JetBlue",
         "rawType": "bool",
         "type": "boolean"
        },
        {
         "name": "most_cancelled_Porter",
         "rawType": "bool",
         "type": "boolean"
        },
        {
         "name": "most_cancelled_Silver Airways",
         "rawType": "bool",
         "type": "boolean"
        },
        {
         "name": "most_cancelled_Southwest",
         "rawType": "bool",
         "type": "boolean"
        },
        {
         "name": "most_cancelled_Spirit",
         "rawType": "bool",
         "type": "boolean"
        },
        {
         "name": "most_cancelled_Sun Country",
         "rawType": "bool",
         "type": "boolean"
        },
        {
         "name": "most_cancelled_United",
         "rawType": "bool",
         "type": "boolean"
        },
        {
         "name": "most_cancelled_Virgin Atlantic",
         "rawType": "bool",
         "type": "boolean"
        },
        {
         "name": "most_cancelled_Volaris",
         "rawType": "bool",
         "type": "boolean"
        },
        {
         "name": "most_cancelled_WestJet",
         "rawType": "bool",
         "type": "boolean"
        }
       ],
       "conversionMethod": "pd.DataFrame",
       "ref": "67ba2e38-4716-4a64-a75b-0c8632beda00",
       "rows": [
        [
         "0",
         "0",
         "0",
         "0",
         "0",
         "0",
         "0",
         "0",
         "0",
         "0",
         "0",
         "0",
         "0",
         "1",
         "0.5519537558",
         "72",
         "5",
         "49",
         "126",
         "7",
         "2",
         "5",
         "1",
         "4",
         "0",
         "0",
         "0",
         "0",
         "0",
         "0",
         "0",
         "0",
         "0",
         "0",
         "0",
         "0",
         "0",
         "0",
         "0",
         "0",
         "0",
         "0",
         "0",
         "0",
         "0",
         "0",
         "10",
         "8",
         "12",
         "9",
         "19",
         "6",
         "2",
         "2",
         "1",
         "1",
         "1",
         "1",
         "0",
         "0",
         "0",
         "0",
         "0",
         "0",
         "0",
         "0",
         "0",
         "0",
         "0",
         "0",
         "0",
         "0",
         "0",
         "0",
         "0",
         "0",
         "0",
         "0",
         "0",
         "0",
         "0",
         "0",
         "8",
         "5",
         "2",
         "8",
         "790.0",
         "1511.0",
         "201.0",
         "1816.0",
         "762",
         "920.5",
         "1473.0",
         "201.0",
         "657.5",
         "1384.5",
         "False",
         "False",
         "False",
         "False",
         "False",
         "True",
         "False",
         "False",
         "False",
         "False",
         "False",
         "False",
         "False",
         "False",
         "False",
         "False",
         "False",
         "False",
         "False",
         "False",
         "False",
         "False",
         "False",
         "False",
         "True",
         "False",
         "False",
         "False",
         "False",
         "False",
         "False",
         "False",
         "False",
         "False",
         "False",
         "False",
         "False",
         "False",
         "False",
         "False",
         "False",
         "False",
         "False",
         "False",
         "False",
         "False",
         "True",
         "False",
         "False",
         "False",
         "False",
         "False",
         "False",
         "False",
         "False",
         "False",
         "False",
         "False",
         "False",
         "False",
         "True",
         "False",
         "False",
         "False",
         "False",
         "False",
         "False",
         "False",
         "False",
         "False",
         "False",
         "False"
        ],
        [
         "1",
         "0",
         "0",
         "0",
         "0",
         "0",
         "0",
         "0",
         "0",
         "1",
         "1",
         "0",
         "0",
         "1",
         "0.5519537558",
         "72",
         "5",
         "49",
         "126",
         "7",
         "2",
         "5",
         "1",
         "4",
         "0",
         "0",
         "0",
         "0",
         "0",
         "0",
         "0",
         "0",
         "0",
         "0",
         "0",
         "0",
         "0",
         "0",
         "0",
         "0",
         "0",
         "0",
         "0",
         "0",
         "0",
         "0",
         "10",
         "8",
         "12",
         "9",
         "19",
         "6",
         "2",
         "2",
         "1",
         "1",
         "1",
         "1",
         "0",
         "0",
         "0",
         "0",
         "0",
         "0",
         "0",
         "0",
         "0",
         "0",
         "0",
         "0",
         "0",
         "0",
         "0",
         "0",
         "0",
         "0",
         "0",
         "0",
         "0",
         "0",
         "0",
         "0",
         "8",
         "5",
         "2",
         "8",
         "790.0",
         "1511.0",
         "201.0",
         "1816.0",
         "762",
         "920.5",
         "1473.0",
         "201.0",
         "657.5",
         "1384.5",
         "False",
         "False",
         "False",
         "False",
         "False",
         "True",
         "False",
         "False",
         "False",
         "False",
         "False",
         "False",
         "False",
         "False",
         "False",
         "False",
         "False",
         "False",
         "False",
         "False",
         "False",
         "False",
         "False",
         "False",
         "True",
         "False",
         "False",
         "False",
         "False",
         "False",
         "False",
         "False",
         "False",
         "False",
         "False",
         "False",
         "False",
         "False",
         "False",
         "False",
         "False",
         "False",
         "False",
         "False",
         "False",
         "False",
         "True",
         "False",
         "False",
         "False",
         "False",
         "False",
         "False",
         "False",
         "False",
         "False",
         "False",
         "False",
         "False",
         "False",
         "True",
         "False",
         "False",
         "False",
         "False",
         "False",
         "False",
         "False",
         "False",
         "False",
         "False",
         "False"
        ],
        [
         "2",
         "0",
         "0",
         "0",
         "0",
         "0",
         "0",
         "0",
         "0",
         "1",
         "1",
         "0",
         "0",
         "1",
         "0.3343439838",
         "17",
         "10",
         "9",
         "36",
         "4",
         "2",
         "3",
         "0",
         "1",
         "4",
         "2",
         "1",
         "1",
         "1",
         "0",
         "0",
         "0",
         "0",
         "0",
         "0",
         "0",
         "0",
         "0",
         "0",
         "0",
         "0",
         "0",
         "0",
         "0",
         "0",
         "0",
         "1",
         "0",
         "4",
         "1",
         "5",
         "2",
         "0",
         "3",
         "0",
         "0",
         "0",
         "0",
         "1",
         "0",
         "0",
         "0",
         "0",
         "0",
         "0",
         "0",
         "0",
         "0",
         "0",
         "0",
         "0",
         "0",
         "0",
         "0",
         "0",
         "0",
         "0",
         "0",
         "0",
         "0",
         "0",
         "0",
         "5",
         "2",
         "2",
         "5",
         "1301.0",
         "318.0",
         "0.0",
         "0.0",
         "522",
         "362.0",
         "0.0",
         "0.0",
         "0.0",
         "0.0",
         "False",
         "False",
         "False",
         "False",
         "False",
         "True",
         "False",
         "False",
         "False",
         "False",
         "False",
         "False",
         "False",
         "False",
         "False",
         "False",
         "False",
         "False",
         "False",
         "False",
         "False",
         "False",
         "False",
         "False",
         "False",
         "False",
         "False",
         "False",
         "True",
         "False",
         "False",
         "False",
         "False",
         "False",
         "False",
         "False",
         "False",
         "False",
         "False",
         "False",
         "False",
         "False",
         "False",
         "False",
         "False",
         "False",
         "True",
         "False",
         "False",
         "False",
         "False",
         "False",
         "False",
         "False",
         "False",
         "False",
         "False",
         "True",
         "False",
         "False",
         "False",
         "False",
         "False",
         "False",
         "False",
         "False",
         "False",
         "False",
         "False",
         "False",
         "False",
         "False"
        ],
        [
         "3",
         "0",
         "0",
         "0",
         "0",
         "0",
         "0",
         "0",
         "0",
         "1",
         "1",
         "0",
         "0",
         "1",
         "0.4372367742",
         "30",
         "9",
         "74",
         "113",
         "6",
         "3",
         "5",
         "1",
         "0",
         "1",
         "0",
         "2",
         "1",
         "1",
         "1",
         "1",
         "1",
         "0",
         "0",
         "0",
         "0",
         "0",
         "0",
         "0",
         "0",
         "0",
         "0",
         "0",
         "0",
         "0",
         "0",
         "2",
         "0",
         "5",
         "7",
         "7",
         "4",
         "1",
         "2",
         "0",
         "0",
         "0",
         "0",
         "2",
         "0",
         "0",
         "0",
         "0",
         "0",
         "0",
         "0",
         "0",
         "0",
         "0",
         "0",
         "0",
         "0",
         "0",
         "0",
         "0",
         "0",
         "0",
         "0",
         "0",
         "0",
         "0",
         "0",
         "6",
         "2",
         "3",
         "10",
         "2039.0",
         "1479.0",
         "1101.5",
         "1952.0",
         "524",
         "1057.0",
         "2040.5",
         "1101.5",
         "599.5",
         "921.5",
         "False",
         "False",
         "False",
         "False",
         "False",
         "False",
         "False",
         "False",
         "False",
         "False",
         "False",
         "False",
         "False",
         "False",
         "True",
         "False",
         "False",
         "False",
         "False",
         "False",
         "False",
         "False",
         "False",
         "False",
         "False",
         "False",
         "False",
         "False",
         "False",
         "False",
         "False",
         "False",
         "False",
         "False",
         "False",
         "False",
         "True",
         "False",
         "False",
         "False",
         "False",
         "False",
         "False",
         "False",
         "False",
         "False",
         "False",
         "False",
         "False",
         "False",
         "False",
         "False",
         "False",
         "False",
         "False",
         "False",
         "True",
         "False",
         "False",
         "False",
         "False",
         "False",
         "False",
         "False",
         "False",
         "False",
         "False",
         "False",
         "False",
         "False",
         "False",
         "False"
        ],
        [
         "4",
         "1",
         "1",
         "1",
         "0",
         "0",
         "0",
         "0",
         "0",
         "0",
         "0",
         "0",
         "0",
         "1",
         "0.5439408907",
         "89",
         "5",
         "29",
         "123",
         "8",
         "2",
         "7",
         "0",
         "2",
         "0",
         "1",
         "0",
         "0",
         "2",
         "0",
         "0",
         "0",
         "0",
         "0",
         "0",
         "0",
         "0",
         "0",
         "0",
         "0",
         "0",
         "0",
         "0",
         "0",
         "0",
         "0",
         "6",
         "13",
         "12",
         "13",
         "22",
         "5",
         "1",
         "7",
         "2",
         "0",
         "2",
         "1",
         "0",
         "1",
         "2",
         "1",
         "1",
         "0",
         "0",
         "0",
         "0",
         "0",
         "0",
         "0",
         "0",
         "0",
         "0",
         "0",
         "0",
         "0",
         "0",
         "0",
         "0",
         "0",
         "0",
         "0",
         "16",
         "4",
         "2",
         "6",
         "784.0",
         "1718.0",
         "276.5",
         "1616.0",
         "745",
         "1104.5",
         "1951.5",
         "276.5",
         "657.5",
         "1671.5",
         "False",
         "False",
         "False",
         "False",
         "False",
         "False",
         "False",
         "False",
         "False",
         "False",
         "False",
         "False",
         "False",
         "False",
         "False",
         "False",
         "False",
         "False",
         "False",
         "False",
         "False",
         "False",
         "False",
         "False",
         "True",
         "False",
         "False",
         "False",
         "False",
         "False",
         "False",
         "False",
         "False",
         "False",
         "False",
         "False",
         "False",
         "False",
         "False",
         "False",
         "False",
         "False",
         "False",
         "False",
         "False",
         "False",
         "True",
         "False",
         "False",
         "False",
         "False",
         "False",
         "True",
         "False",
         "False",
         "False",
         "False",
         "False",
         "False",
         "False",
         "False",
         "False",
         "False",
         "False",
         "False",
         "False",
         "False",
         "False",
         "False",
         "False",
         "False",
         "False"
        ]
       ],
       "shape": {
        "columns": 167,
        "rows": 5
       }
      },
      "text/html": [
       "<div>\n",
       "<style scoped>\n",
       "    .dataframe tbody tr th:only-of-type {\n",
       "        vertical-align: middle;\n",
       "    }\n",
       "\n",
       "    .dataframe tbody tr th {\n",
       "        vertical-align: top;\n",
       "    }\n",
       "\n",
       "    .dataframe thead th {\n",
       "        text-align: right;\n",
       "    }\n",
       "</style>\n",
       "<table border=\"1\" class=\"dataframe\">\n",
       "  <thead>\n",
       "    <tr style=\"text-align: right;\">\n",
       "      <th></th>\n",
       "      <th>Is Night</th>\n",
       "      <th>Is Morning</th>\n",
       "      <th>Is Monday</th>\n",
       "      <th>Is Tuesday</th>\n",
       "      <th>Is Wednesday</th>\n",
       "      <th>Is Thursday</th>\n",
       "      <th>Is Friday</th>\n",
       "      <th>Is Saturday</th>\n",
       "      <th>Is Sunday</th>\n",
       "      <th>Is Weekend</th>\n",
       "      <th>...</th>\n",
       "      <th>most_cancelled_JetBlue</th>\n",
       "      <th>most_cancelled_Porter</th>\n",
       "      <th>most_cancelled_Silver Airways</th>\n",
       "      <th>most_cancelled_Southwest</th>\n",
       "      <th>most_cancelled_Spirit</th>\n",
       "      <th>most_cancelled_Sun Country</th>\n",
       "      <th>most_cancelled_United</th>\n",
       "      <th>most_cancelled_Virgin Atlantic</th>\n",
       "      <th>most_cancelled_Volaris</th>\n",
       "      <th>most_cancelled_WestJet</th>\n",
       "    </tr>\n",
       "  </thead>\n",
       "  <tbody>\n",
       "    <tr>\n",
       "      <th>0</th>\n",
       "      <td>0</td>\n",
       "      <td>0</td>\n",
       "      <td>0</td>\n",
       "      <td>0</td>\n",
       "      <td>0</td>\n",
       "      <td>0</td>\n",
       "      <td>0</td>\n",
       "      <td>0</td>\n",
       "      <td>0</td>\n",
       "      <td>0</td>\n",
       "      <td>...</td>\n",
       "      <td>False</td>\n",
       "      <td>False</td>\n",
       "      <td>False</td>\n",
       "      <td>False</td>\n",
       "      <td>False</td>\n",
       "      <td>False</td>\n",
       "      <td>False</td>\n",
       "      <td>False</td>\n",
       "      <td>False</td>\n",
       "      <td>False</td>\n",
       "    </tr>\n",
       "    <tr>\n",
       "      <th>1</th>\n",
       "      <td>0</td>\n",
       "      <td>0</td>\n",
       "      <td>0</td>\n",
       "      <td>0</td>\n",
       "      <td>0</td>\n",
       "      <td>0</td>\n",
       "      <td>0</td>\n",
       "      <td>0</td>\n",
       "      <td>1</td>\n",
       "      <td>1</td>\n",
       "      <td>...</td>\n",
       "      <td>False</td>\n",
       "      <td>False</td>\n",
       "      <td>False</td>\n",
       "      <td>False</td>\n",
       "      <td>False</td>\n",
       "      <td>False</td>\n",
       "      <td>False</td>\n",
       "      <td>False</td>\n",
       "      <td>False</td>\n",
       "      <td>False</td>\n",
       "    </tr>\n",
       "    <tr>\n",
       "      <th>2</th>\n",
       "      <td>0</td>\n",
       "      <td>0</td>\n",
       "      <td>0</td>\n",
       "      <td>0</td>\n",
       "      <td>0</td>\n",
       "      <td>0</td>\n",
       "      <td>0</td>\n",
       "      <td>0</td>\n",
       "      <td>1</td>\n",
       "      <td>1</td>\n",
       "      <td>...</td>\n",
       "      <td>False</td>\n",
       "      <td>False</td>\n",
       "      <td>False</td>\n",
       "      <td>False</td>\n",
       "      <td>False</td>\n",
       "      <td>False</td>\n",
       "      <td>False</td>\n",
       "      <td>False</td>\n",
       "      <td>False</td>\n",
       "      <td>False</td>\n",
       "    </tr>\n",
       "    <tr>\n",
       "      <th>3</th>\n",
       "      <td>0</td>\n",
       "      <td>0</td>\n",
       "      <td>0</td>\n",
       "      <td>0</td>\n",
       "      <td>0</td>\n",
       "      <td>0</td>\n",
       "      <td>0</td>\n",
       "      <td>0</td>\n",
       "      <td>1</td>\n",
       "      <td>1</td>\n",
       "      <td>...</td>\n",
       "      <td>False</td>\n",
       "      <td>False</td>\n",
       "      <td>False</td>\n",
       "      <td>False</td>\n",
       "      <td>False</td>\n",
       "      <td>False</td>\n",
       "      <td>False</td>\n",
       "      <td>False</td>\n",
       "      <td>False</td>\n",
       "      <td>False</td>\n",
       "    </tr>\n",
       "    <tr>\n",
       "      <th>4</th>\n",
       "      <td>1</td>\n",
       "      <td>1</td>\n",
       "      <td>1</td>\n",
       "      <td>0</td>\n",
       "      <td>0</td>\n",
       "      <td>0</td>\n",
       "      <td>0</td>\n",
       "      <td>0</td>\n",
       "      <td>0</td>\n",
       "      <td>0</td>\n",
       "      <td>...</td>\n",
       "      <td>False</td>\n",
       "      <td>False</td>\n",
       "      <td>False</td>\n",
       "      <td>False</td>\n",
       "      <td>False</td>\n",
       "      <td>False</td>\n",
       "      <td>False</td>\n",
       "      <td>False</td>\n",
       "      <td>False</td>\n",
       "      <td>False</td>\n",
       "    </tr>\n",
       "  </tbody>\n",
       "</table>\n",
       "<p>5 rows × 167 columns</p>\n",
       "</div>"
      ],
      "text/plain": [
       "   Is Night  Is Morning  Is Monday  Is Tuesday  Is Wednesday  Is Thursday  \\\n",
       "0         0           0          0           0             0            0   \n",
       "1         0           0          0           0             0            0   \n",
       "2         0           0          0           0             0            0   \n",
       "3         0           0          0           0             0            0   \n",
       "4         1           1          1           0             0            0   \n",
       "\n",
       "   Is Friday  Is Saturday  Is Sunday  Is Weekend  ...  most_cancelled_JetBlue  \\\n",
       "0          0            0          0           0  ...                   False   \n",
       "1          0            0          1           1  ...                   False   \n",
       "2          0            0          1           1  ...                   False   \n",
       "3          0            0          1           1  ...                   False   \n",
       "4          0            0          0           0  ...                   False   \n",
       "\n",
       "   most_cancelled_Porter  most_cancelled_Silver Airways  \\\n",
       "0                  False                          False   \n",
       "1                  False                          False   \n",
       "2                  False                          False   \n",
       "3                  False                          False   \n",
       "4                  False                          False   \n",
       "\n",
       "   most_cancelled_Southwest  most_cancelled_Spirit  \\\n",
       "0                     False                  False   \n",
       "1                     False                  False   \n",
       "2                     False                  False   \n",
       "3                     False                  False   \n",
       "4                     False                  False   \n",
       "\n",
       "   most_cancelled_Sun Country  most_cancelled_United  \\\n",
       "0                       False                  False   \n",
       "1                       False                  False   \n",
       "2                       False                  False   \n",
       "3                       False                  False   \n",
       "4                       False                  False   \n",
       "\n",
       "   most_cancelled_Virgin Atlantic  most_cancelled_Volaris  \\\n",
       "0                           False                   False   \n",
       "1                           False                   False   \n",
       "2                           False                   False   \n",
       "3                           False                   False   \n",
       "4                           False                   False   \n",
       "\n",
       "   most_cancelled_WestJet  \n",
       "0                   False  \n",
       "1                   False  \n",
       "2                   False  \n",
       "3                   False  \n",
       "4                   False  \n",
       "\n",
       "[5 rows x 167 columns]"
      ]
     },
     "execution_count": 8,
     "metadata": {},
     "output_type": "execute_result"
    }
   ],
   "source": [
    "df_dummies = pd.get_dummies(df_clean, columns=['day', 'hour','most_delayed', 'most_cancelled'], drop_first=True)\n",
    "df_dummies.fillna(0, inplace=True)\n",
    "df_dummies = df_dummies.replace(\"#NUM!\", np.nan)\n",
    "df_dummies.head()"
   ]
  },
  {
   "cell_type": "code",
   "execution_count": 9,
   "metadata": {},
   "outputs": [
    {
     "data": {
      "text/plain": [
       "average_overall_wait                     1.000000\n",
       "average_general_wait                     0.992516\n",
       "tsa_West Checkpoint General.wait_time    0.849310\n",
       "tsa_East Checkpoint General.wait_time    0.787705\n",
       "total_flights                            0.643483\n",
       "                                           ...   \n",
       "Bad Day                                 -0.173182\n",
       "hour_2                                  -0.189305\n",
       "hour_23                                 -0.203213\n",
       "hour_22                                 -0.205859\n",
       "hour_1                                  -0.242868\n",
       "Name: average_overall_wait, Length: 167, dtype: float64"
      ]
     },
     "metadata": {},
     "output_type": "display_data"
    }
   ],
   "source": [
    "corr_with_overall_wait = df_dummies.corr()['average_overall_wait'].sort_values(ascending=False)\n",
    "\n",
    "display(corr_with_overall_wait)"
   ]
  },
  {
   "cell_type": "markdown",
   "metadata": {},
   "source": [
    "Dropping waits because they are posing a major data leak issue for the model."
   ]
  },
  {
   "cell_type": "code",
   "execution_count": 11,
   "metadata": {},
   "outputs": [
    {
     "name": "stdout",
     "output_type": "stream",
     "text": [
      "NeuralNetwork: R² = 0.57 (+/- 0.03)\n",
      "NeuralNetwork: RMSE = 2.43 (+/- 0.10)\n",
      "NeuralNetwork: MAE = 1.74 (+/- 0.05)\n",
      "\n"
     ]
    }
   ],
   "source": [
    "from sklearn.model_selection import cross_val_score, KFold, train_test_split, GridSearchCV, learning_curve\n",
    "from sklearn.pipeline import make_pipeline\n",
    "from sklearn.preprocessing import StandardScaler\n",
    "from sklearn.linear_model import LinearRegression, Lasso\n",
    "from sklearn.ensemble import RandomForestRegressor\n",
    "from sklearn.svm import SVR\n",
    "from sklearn.neural_network import MLPRegressor\n",
    "\n",
    "y = df_dummies['average_overall_wait']\n",
    "X = df_dummies.drop(columns=['average_overall_wait', 'tsa_West Checkpoint General.wait_time', 'tsa_East Checkpoint General.wait_time', \n",
    "                    'average_general_wait', 'tsa_South Checkpoint General.wait_time', 'average_precheck_wait', 'score_metric',\n",
    "                    'Gates 70-99 Seat Profile', 'Gates 100-129 Seat Profile', 'delayed_Spirit', 'delayed_Frontier', 'delayed_American', \n",
    "                    'Gates 30-59 Security Demand', 'Gates 30-59 Seat Profile', 'delayed_United', 'cancelled', 'cancelled_Avianca', 'Is Monday', \n",
    "                    'delayed_Air Canada', 'delayed_Emirates', 'delayed_Alaska', 'cancelled_Southwest', 'cancelled_United', 'delayed_Breeze Airways', \n",
    "                    'delayed_Silver Airways', 'Is Thursday', 'cancelled_Silver Airways', 'delayed_LAN Chile', 'cancelled_American', 'Is Morning', \n",
    "                    'delayed_Avelo Airlines', 'Is Wednesday', 'Is Night', 'delayed_Porter', 'delayed_WestJet', 'Is Weekend', 'cancelled_Frontier', \n",
    "                    'cancelled_Spirit', 'delayed_Avianca', 'Is Tuesday', 'Is Friday', 'delayed_Discover', 'cancelled_Flair', 'Is Saturday', \n",
    "                    'delayed_Sun Country', 'cancelled_JetBlue', 'delayed_Allegiant Air', 'delayed_Virgin Atlantic', 'delayed_Copa Airlines', \n",
    "                    'Ok Day', 'Good Day', 'delayed_Aeromexico', 'delayed_Flair', 'cancelled_Delta', 'cancelled_Breeze Airways', 'cancelled_Air Canada', \n",
    "                    'delayed_British Airways', 'delayed_Air Transat', 'cancelled_Sun Country', 'cancelled_Discover', 'delayed_Norse Atlantic UK', \n",
    "                    'delayed_Aer Lingus', 'cancelled_Azul', 'cancelled_Virgin Atlantic', 'cancelled_Porter', 'delayed_Vivaaerobus', 'delayed_GOL', \n",
    "                    'delayed_Azul', 'delayed_Latam Colombia', 'Bad Day', 'cancelled_Alaska', 'delayed_Bahamasair', 'delayed_Volaris', 'cancelled_Volaris', \n",
    "                    'cancelled_Aeromexico', 'delayed_BermudAir', 'cancelled_Copa Airlines', 'cancelled_GOL', 'cancelled_WestJet', 'cancelled_Icelandair', \n",
    "                    'delayed_LATAM'])\n",
    "X = X.select_dtypes(include=[np.number])\n",
    "\n",
    "pipelines = {\n",
    "    #\"LinearRegression\": make_pipeline(StandardScaler(), LinearRegression()),\n",
    "    #\"RandomForest\": make_pipeline(RandomForestRegressor(random_state=42, n_estimators=200)),  \n",
    "    #\"SVR\": make_pipeline(StandardScaler(), SVR()),\n",
    "    #\"Lasso\": make_pipeline(StandardScaler(), Lasso(alpha=1.0)),\n",
    "    \"NeuralNetwork\": make_pipeline(StandardScaler(), MLPRegressor(random_state=42, max_iter=600, early_stopping=True, learning_rate_init=0.01)) # 500 original max iter\n",
    "}\n",
    "\n",
    "kf = KFold(n_splits=5, shuffle=True, random_state=42)\n",
    "\n",
    "for name, pipeline in pipelines.items():\n",
    "    scores_r2 = cross_val_score(pipeline, X, y, cv=kf, scoring='r2')\n",
    "    print(f\"{name}: R² = {np.mean(scores_r2):.2f} (+/- {np.std(scores_r2):.2f})\")\n",
    "    \n",
    "    scores_rmse = cross_val_score(pipeline, X, y, cv=kf, scoring='neg_root_mean_squared_error')\n",
    "    print(f\"{name}: RMSE = {-np.mean(scores_rmse):.2f} (+/- {np.std(scores_rmse):.2f})\")\n",
    "    \n",
    "    scores_mae = cross_val_score(pipeline, X, y, cv=kf, scoring='neg_mean_absolute_error')\n",
    "    print(f\"{name}: MAE = {-np.mean(scores_mae):.2f} (+/- {np.std(scores_mae):.2f})\\n\")"
   ]
  },
  {
   "cell_type": "code",
   "execution_count": 12,
   "metadata": {},
   "outputs": [
    {
     "name": "stdout",
     "output_type": "stream",
     "text": [
      "Best parameters for RandomForest: {'randomforestregressor__max_depth': None, 'randomforestregressor__n_estimators': 200}\n",
      "Best MAE (from CV): 1.4826966228289835\n"
     ]
    }
   ],
   "source": [
    "# Hyperparameter Tuning with GridSearchCV for RF\n",
    "X_train, X_test, y_train, y_test = train_test_split(X, y, test_size=0.2, random_state=42)\n",
    "\n",
    "pipeline_rf = make_pipeline(RandomForestRegressor(random_state=42))\n",
    "param_grid = {\n",
    "    'randomforestregressor__n_estimators': [100, 200],\n",
    "    'randomforestregressor__max_depth': [None, 10, 20]\n",
    "}\n",
    "grid_rf = GridSearchCV(pipeline_rf, param_grid, cv=5, scoring='neg_mean_absolute_error', n_jobs=-1)\n",
    "grid_rf.fit(X_train, y_train)\n",
    "\n",
    "print(\"Best parameters for RandomForest:\", grid_rf.best_params_)\n",
    "print(\"Best MAE (from CV):\", -grid_rf.best_score_)\n",
    "\n",
    "best_rf = grid_rf.best_estimator_\n",
    "y_pred = best_rf.predict(X_test)"
   ]
  },
  {
   "cell_type": "code",
   "execution_count": 13,
   "metadata": {},
   "outputs": [
    {
     "data": {
      "image/png": "[encoded data removed]",
      "text/plain": [
       "<Figure size 800x600 with 1 Axes>"
      ]
     },
     "metadata": {},
     "output_type": "display_data"
    }
   ],
   "source": [
    "# Plot Residuals\n",
    "residuals = y_test - y_pred\n",
    "plt.figure(figsize=(8,6))\n",
    "plt.scatter(y_pred, residuals, alpha=0.7)\n",
    "plt.xlabel(\"Predicted TSA Wait (minutes)\")\n",
    "plt.ylabel(\"Residuals\")\n",
    "plt.title(\"Residual Plot for RandomForest\")\n",
    "plt.axhline(0, color='red', linestyle='--')\n",
    "plt.show()"
   ]
  },
  {
   "cell_type": "code",
   "execution_count": 14,
   "metadata": {},
   "outputs": [
    {
     "data": {
      "image/png": "[encoded data removed]",
      "text/plain": [
       "<Figure size 800x600 with 1 Axes>"
      ]
     },
     "metadata": {},
     "output_type": "display_data"
    }
   ],
   "source": [
    "# Learning curves\n",
    "train_sizes, train_scores, val_scores = learning_curve(\n",
    "    best_rf, X_train, y_train, cv=5, scoring='neg_mean_absolute_error',\n",
    "    train_sizes=np.linspace(0.1, 1.0, 10), n_jobs=-1\n",
    ")\n",
    "train_scores_mean = -np.mean(train_scores, axis=1)\n",
    "val_scores_mean = -np.mean(val_scores, axis=1)\n",
    "\n",
    "plt.figure(figsize=(8,6))\n",
    "plt.plot(train_sizes, train_scores_mean, label=\"Training MAE\")\n",
    "plt.plot(train_sizes, val_scores_mean, label=\"Validation MAE\")\n",
    "plt.xlabel(\"Training Set Size\")\n",
    "plt.ylabel(\"Mean Absolute Error (minutes)\")\n",
    "plt.title(\"Learning Curve for RandomForest\")\n",
    "plt.legend()\n",
    "plt.show()"
   ]
  },
  {
   "cell_type": "code",
   "execution_count": 15,
   "metadata": {},
   "outputs": [
    {
     "name": "stdout",
     "output_type": "stream",
     "text": [
      "                                        feature  importance\n",
      "3                                 total_flights    0.454006\n",
      "2                                        ontime    0.079977\n",
      "1                                       delayed    0.053921\n",
      "12                Gates 230-245 Security Demand    0.051576\n",
      "6                             delayed_Southwest    0.049950\n",
      "10                Gates 100-129 Security Demand    0.046515\n",
      "4                               delayed_JetBlue    0.045151\n",
      "9                    Gates 1-29 Security Demand    0.042442\n",
      "8                       Gates 1-29 Seat Profile    0.042414\n",
      "11                  Gates 70-99 Security Demand    0.041507\n",
      "5                                 delayed_Delta    0.039789\n",
      "0                                     Is Sunday    0.027265\n",
      "7   tsa_South Checkpoint TSA PreCheck.wait_time    0.025489\n",
      "Features with importance below 0.02: []\n"
     ]
    },
    {
     "data": {
      "image/png": "[encoded data removed]",
      "text/plain": [
       "<Figure size 800x1900 with 1 Axes>"
      ]
     },
     "metadata": {},
     "output_type": "display_data"
    }
   ],
   "source": [
    "# Feature selection\n",
    "feature_importances = best_rf.named_steps['randomforestregressor'].feature_importances_\n",
    "importance_df = pd.DataFrame({\n",
    "    'feature': X.columns,\n",
    "    'importance': feature_importances\n",
    "}).sort_values(by='importance', ascending=False)\n",
    "print(importance_df)\n",
    "\n",
    "low_features = importance_df[importance_df['importance'] < 0.02]['feature'].tolist()\n",
    "print(\"Features with importance below 0.02:\", low_features)\n",
    "\n",
    "plt.figure(figsize=(8,19))\n",
    "plt.barh(importance_df['feature'], importance_df['importance'])\n",
    "plt.xlabel(\"Feature Importance\")\n",
    "plt.title(\"RandomForest Feature Importance\")\n",
    "plt.gca().invert_yaxis()  # Highest importance at the top\n",
    "plt.show()"
   ]
  }
 ],
 "metadata": {
  "kernelspec": {
   "display_name": "Python 3",
   "language": "python",
   "name": "python3"
  },
  "language_info": {
   "codemirror_mode": {
    "name": "ipython",
    "version": 3
   },
   "file_extension": ".py",
   "mimetype": "text/x-python",
   "name": "python",
   "nbconvert_exporter": "python",
   "pygments_lexer": "ipython3",
   "version": "3.11.4"
  }
 },
 "nbformat": 4,
 "nbformat_minor": 2
}
